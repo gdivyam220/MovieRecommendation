{
  "nbformat": 4,
  "nbformat_minor": 0,
  "metadata": {
    "colab": {
      "name": "MRE_English.ipynb",
      "provenance": [],
      "collapsed_sections": []
    },
    "kernelspec": {
      "name": "python3",
      "display_name": "Python 3"
    },
    "language_info": {
      "name": "python"
    }
  },
  "cells": [
    {
      "cell_type": "code",
      "metadata": {
        "id": "gYGuxvJgfoe8"
      },
      "source": [
        "import pandas as pd\n",
        "import numpy as np\n",
        "from sklearn.metrics.pairwise import cosine_similarity\n",
        "from sklearn.feature_extraction.text import CountVectorizer"
      ],
      "execution_count": 59,
      "outputs": []
    },
    {
      "cell_type": "code",
      "metadata": {
        "colab": {
          "resources": {
            "http://localhost:8080/nbextensions/google.colab/files.js": {
              "data": "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",
              "ok": true,
              "headers": [
                [
                  "content-type",
                  "application/javascript"
                ]
              ],
              "status": 200,
              "status_text": ""
            }
          },
          "base_uri": "https://localhost:8080/",
          "height": 39
        },
        "id": "7NeKtFVw5V9w",
        "outputId": "df84131c-b5d3-49f1-b56c-6ef66f209a67"
      },
      "source": [
        "from google.colab import files\n",
        "uploaded = files.upload()"
      ],
      "execution_count": 60,
      "outputs": [
        {
          "output_type": "display_data",
          "data": {
            "text/html": [
              "\n",
              "     <input type=\"file\" id=\"files-ef944a30-3321-4008-a0f2-1c6adcc29553\" name=\"files[]\" multiple disabled\n",
              "        style=\"border:none\" />\n",
              "     <output id=\"result-ef944a30-3321-4008-a0f2-1c6adcc29553\">\n",
              "      Upload widget is only available when the cell has been executed in the\n",
              "      current browser session. Please rerun this cell to enable.\n",
              "      </output>\n",
              "      <script src=\"/nbextensions/google.colab/files.js\"></script> "
            ],
            "text/plain": [
              "<IPython.core.display.HTML object>"
            ]
          },
          "metadata": {
            "tags": []
          }
        }
      ]
    },
    {
      "cell_type": "code",
      "metadata": {
        "id": "seEf2fidhy3M"
      },
      "source": [
        "df = pd.read_excel('mvs.xlsx')"
      ],
      "execution_count": 61,
      "outputs": []
    },
    {
      "cell_type": "code",
      "metadata": {
        "colab": {
          "base_uri": "https://localhost:8080/",
          "height": 595
        },
        "id": "adzGgFaztLhM",
        "outputId": "cd8d184d-9422-48d3-d94f-f68868800599"
      },
      "source": [
        "df.head(10)"
      ],
      "execution_count": 62,
      "outputs": [
        {
          "output_type": "execute_result",
          "data": {
            "text/html": [
              "<div>\n",
              "<style scoped>\n",
              "    .dataframe tbody tr th:only-of-type {\n",
              "        vertical-align: middle;\n",
              "    }\n",
              "\n",
              "    .dataframe tbody tr th {\n",
              "        vertical-align: top;\n",
              "    }\n",
              "\n",
              "    .dataframe thead th {\n",
              "        text-align: right;\n",
              "    }\n",
              "</style>\n",
              "<table border=\"1\" class=\"dataframe\">\n",
              "  <thead>\n",
              "    <tr style=\"text-align: right;\">\n",
              "      <th></th>\n",
              "      <th>director_name</th>\n",
              "      <th>duration</th>\n",
              "      <th>actor_2_name</th>\n",
              "      <th>genres</th>\n",
              "      <th>actor_1_name</th>\n",
              "      <th>movie_title</th>\n",
              "      <th>num_voted_users</th>\n",
              "      <th>actor_3_name</th>\n",
              "      <th>movie_imdb_link</th>\n",
              "      <th>num_user_for_reviews</th>\n",
              "      <th>language</th>\n",
              "      <th>country</th>\n",
              "      <th>title_year</th>\n",
              "      <th>imdb_score</th>\n",
              "      <th>id</th>\n",
              "    </tr>\n",
              "  </thead>\n",
              "  <tbody>\n",
              "    <tr>\n",
              "      <th>0</th>\n",
              "      <td>James Cameron</td>\n",
              "      <td>178.0</td>\n",
              "      <td>Joel David Moore</td>\n",
              "      <td>Action|Adventure|Fantasy|Sci-Fi</td>\n",
              "      <td>CCH Pounder</td>\n",
              "      <td>Avatar</td>\n",
              "      <td>886204</td>\n",
              "      <td>Wes Studi</td>\n",
              "      <td>http://www.imdb.com/title/tt0499549/?ref_=fn_t...</td>\n",
              "      <td>3054</td>\n",
              "      <td>English</td>\n",
              "      <td>USA</td>\n",
              "      <td>2009</td>\n",
              "      <td>7.9</td>\n",
              "      <td>0</td>\n",
              "    </tr>\n",
              "    <tr>\n",
              "      <th>1</th>\n",
              "      <td>Gore Verbinski</td>\n",
              "      <td>169.0</td>\n",
              "      <td>Orlando Bloom</td>\n",
              "      <td>Action|Adventure|Fantasy</td>\n",
              "      <td>Johnny Depp</td>\n",
              "      <td>Pirates of the Caribbean: At World's End</td>\n",
              "      <td>471220</td>\n",
              "      <td>Jack Davenport</td>\n",
              "      <td>http://www.imdb.com/title/tt0449088/?ref_=fn_t...</td>\n",
              "      <td>1238</td>\n",
              "      <td>English</td>\n",
              "      <td>USA</td>\n",
              "      <td>2007</td>\n",
              "      <td>7.1</td>\n",
              "      <td>1</td>\n",
              "    </tr>\n",
              "    <tr>\n",
              "      <th>2</th>\n",
              "      <td>Sam Mendes</td>\n",
              "      <td>148.0</td>\n",
              "      <td>Rory Kinnear</td>\n",
              "      <td>Action|Adventure|Thriller</td>\n",
              "      <td>Christoph Waltz</td>\n",
              "      <td>Spectre</td>\n",
              "      <td>275868</td>\n",
              "      <td>Stephanie Sigman</td>\n",
              "      <td>http://www.imdb.com/title/tt2379713/?ref_=fn_t...</td>\n",
              "      <td>994</td>\n",
              "      <td>English</td>\n",
              "      <td>UK</td>\n",
              "      <td>2015</td>\n",
              "      <td>6.8</td>\n",
              "      <td>2</td>\n",
              "    </tr>\n",
              "    <tr>\n",
              "      <th>3</th>\n",
              "      <td>Christopher Nolan</td>\n",
              "      <td>164.0</td>\n",
              "      <td>Christian Bale</td>\n",
              "      <td>Action|Thriller</td>\n",
              "      <td>Tom Hardy</td>\n",
              "      <td>The Dark Knight Rises</td>\n",
              "      <td>1144337</td>\n",
              "      <td>Joseph Gordon-Levitt</td>\n",
              "      <td>http://www.imdb.com/title/tt1345836/?ref_=fn_t...</td>\n",
              "      <td>2701</td>\n",
              "      <td>English</td>\n",
              "      <td>USA</td>\n",
              "      <td>2012</td>\n",
              "      <td>8.5</td>\n",
              "      <td>3</td>\n",
              "    </tr>\n",
              "    <tr>\n",
              "      <th>4</th>\n",
              "      <td>Andrew Stanton</td>\n",
              "      <td>132.0</td>\n",
              "      <td>Samantha Morton</td>\n",
              "      <td>Action|Adventure|Sci-Fi</td>\n",
              "      <td>Daryl Sabara</td>\n",
              "      <td>John Carter</td>\n",
              "      <td>212204</td>\n",
              "      <td>Polly Walker</td>\n",
              "      <td>http://www.imdb.com/title/tt0401729/?ref_=fn_t...</td>\n",
              "      <td>738</td>\n",
              "      <td>English</td>\n",
              "      <td>USA</td>\n",
              "      <td>2012</td>\n",
              "      <td>6.6</td>\n",
              "      <td>4</td>\n",
              "    </tr>\n",
              "    <tr>\n",
              "      <th>5</th>\n",
              "      <td>Sam Raimi</td>\n",
              "      <td>156.0</td>\n",
              "      <td>James Franco</td>\n",
              "      <td>Action|Adventure|Romance</td>\n",
              "      <td>J.K. Simmons</td>\n",
              "      <td>Spider-Man 3</td>\n",
              "      <td>383056</td>\n",
              "      <td>Kirsten Dunst</td>\n",
              "      <td>http://www.imdb.com/title/tt0413300/?ref_=fn_t...</td>\n",
              "      <td>1902</td>\n",
              "      <td>English</td>\n",
              "      <td>USA</td>\n",
              "      <td>2007</td>\n",
              "      <td>6.2</td>\n",
              "      <td>5</td>\n",
              "    </tr>\n",
              "    <tr>\n",
              "      <th>6</th>\n",
              "      <td>Sam Raimi</td>\n",
              "      <td>156.0</td>\n",
              "      <td>James Franc</td>\n",
              "      <td>Action|Adventure|Romanc</td>\n",
              "      <td>J.K. Simmon</td>\n",
              "      <td>Spider-Mn 3</td>\n",
              "      <td>383056</td>\n",
              "      <td>Kirste Duns</td>\n",
              "      <td>http://www.imdb.com/title/tt0413300/?ref_=fn_t...</td>\n",
              "      <td>1902</td>\n",
              "      <td>English</td>\n",
              "      <td>USA</td>\n",
              "      <td>2007</td>\n",
              "      <td>6.2</td>\n",
              "      <td>5</td>\n",
              "    </tr>\n",
              "    <tr>\n",
              "      <th>7</th>\n",
              "      <td>Nathan Greno</td>\n",
              "      <td>100.0</td>\n",
              "      <td>Donna Murphy</td>\n",
              "      <td>Adventure|Animation|Comedy|Family|Fantasy|Musi...</td>\n",
              "      <td>Brad Garrett</td>\n",
              "      <td>Tangled</td>\n",
              "      <td>294810</td>\n",
              "      <td>M.C. Gainey</td>\n",
              "      <td>http://www.imdb.com/title/tt0398286/?ref_=fn_t...</td>\n",
              "      <td>387</td>\n",
              "      <td>English</td>\n",
              "      <td>USA</td>\n",
              "      <td>2010</td>\n",
              "      <td>7.8</td>\n",
              "      <td>6</td>\n",
              "    </tr>\n",
              "    <tr>\n",
              "      <th>8</th>\n",
              "      <td>Joss Whedon</td>\n",
              "      <td>141.0</td>\n",
              "      <td>Robert Downey Jr.</td>\n",
              "      <td>Action|Adventure|Sci-Fi</td>\n",
              "      <td>Chris Hemsworth</td>\n",
              "      <td>Avengers: Age of Ultron</td>\n",
              "      <td>462669</td>\n",
              "      <td>Scarlett Johansson</td>\n",
              "      <td>http://www.imdb.com/title/tt2395427/?ref_=fn_t...</td>\n",
              "      <td>1117</td>\n",
              "      <td>English</td>\n",
              "      <td>USA</td>\n",
              "      <td>2015</td>\n",
              "      <td>7.5</td>\n",
              "      <td>7</td>\n",
              "    </tr>\n",
              "    <tr>\n",
              "      <th>9</th>\n",
              "      <td>David Yates</td>\n",
              "      <td>153.0</td>\n",
              "      <td>Daniel Radcliffe</td>\n",
              "      <td>Adventure|Family|Fantasy|Mystery</td>\n",
              "      <td>Alan Rickman</td>\n",
              "      <td>Harry Potter and the Half-Blood Prince</td>\n",
              "      <td>321795</td>\n",
              "      <td>Rupert Grint</td>\n",
              "      <td>http://www.imdb.com/title/tt0417741/?ref_=fn_t...</td>\n",
              "      <td>973</td>\n",
              "      <td>English</td>\n",
              "      <td>UK</td>\n",
              "      <td>2009</td>\n",
              "      <td>7.5</td>\n",
              "      <td>8</td>\n",
              "    </tr>\n",
              "  </tbody>\n",
              "</table>\n",
              "</div>"
            ],
            "text/plain": [
              "       director_name  duration       actor_2_name  ... title_year imdb_score id\n",
              "0      James Cameron     178.0   Joel David Moore  ...       2009        7.9  0\n",
              "1     Gore Verbinski     169.0      Orlando Bloom  ...       2007        7.1  1\n",
              "2         Sam Mendes     148.0       Rory Kinnear  ...       2015        6.8  2\n",
              "3  Christopher Nolan     164.0     Christian Bale  ...       2012        8.5  3\n",
              "4     Andrew Stanton     132.0    Samantha Morton  ...       2012        6.6  4\n",
              "5          Sam Raimi     156.0       James Franco  ...       2007        6.2  5\n",
              "6          Sam Raimi     156.0        James Franc  ...       2007        6.2  5\n",
              "7       Nathan Greno     100.0       Donna Murphy  ...       2010        7.8  6\n",
              "8        Joss Whedon     141.0  Robert Downey Jr.  ...       2015        7.5  7\n",
              "9        David Yates     153.0   Daniel Radcliffe  ...       2009        7.5  8\n",
              "\n",
              "[10 rows x 15 columns]"
            ]
          },
          "metadata": {
            "tags": []
          },
          "execution_count": 62
        }
      ]
    },
    {
      "cell_type": "code",
      "metadata": {
        "colab": {
          "base_uri": "https://localhost:8080/"
        },
        "id": "eqfEVeZrlRv3",
        "outputId": "4d97084d-fb09-4c7a-8bee-97375d75da5e"
      },
      "source": [
        "df.shape"
      ],
      "execution_count": 63,
      "outputs": [
        {
          "output_type": "execute_result",
          "data": {
            "text/plain": [
              "(1001, 15)"
            ]
          },
          "metadata": {
            "tags": []
          },
          "execution_count": 63
        }
      ]
    },
    {
      "cell_type": "code",
      "metadata": {
        "id": "g0cbLCodm61W"
      },
      "source": [
        "columns = {'actor_1_name','actor_2_name','actor_3_name','genres','director_name','movie_title'}"
      ],
      "execution_count": 64,
      "outputs": []
    },
    {
      "cell_type": "code",
      "metadata": {
        "colab": {
          "base_uri": "https://localhost:8080/",
          "height": 110
        },
        "id": "SkEGx23cnJ0P",
        "outputId": "e58fd26a-2b5a-4971-c9f6-55422bf32412"
      },
      "source": [
        "df[columns].head(2)"
      ],
      "execution_count": 65,
      "outputs": [
        {
          "output_type": "execute_result",
          "data": {
            "text/html": [
              "<div>\n",
              "<style scoped>\n",
              "    .dataframe tbody tr th:only-of-type {\n",
              "        vertical-align: middle;\n",
              "    }\n",
              "\n",
              "    .dataframe tbody tr th {\n",
              "        vertical-align: top;\n",
              "    }\n",
              "\n",
              "    .dataframe thead th {\n",
              "        text-align: right;\n",
              "    }\n",
              "</style>\n",
              "<table border=\"1\" class=\"dataframe\">\n",
              "  <thead>\n",
              "    <tr style=\"text-align: right;\">\n",
              "      <th></th>\n",
              "      <th>actor_1_name</th>\n",
              "      <th>actor_2_name</th>\n",
              "      <th>actor_3_name</th>\n",
              "      <th>movie_title</th>\n",
              "      <th>genres</th>\n",
              "      <th>director_name</th>\n",
              "    </tr>\n",
              "  </thead>\n",
              "  <tbody>\n",
              "    <tr>\n",
              "      <th>0</th>\n",
              "      <td>CCH Pounder</td>\n",
              "      <td>Joel David Moore</td>\n",
              "      <td>Wes Studi</td>\n",
              "      <td>Avatar</td>\n",
              "      <td>Action|Adventure|Fantasy|Sci-Fi</td>\n",
              "      <td>James Cameron</td>\n",
              "    </tr>\n",
              "    <tr>\n",
              "      <th>1</th>\n",
              "      <td>Johnny Depp</td>\n",
              "      <td>Orlando Bloom</td>\n",
              "      <td>Jack Davenport</td>\n",
              "      <td>Pirates of the Caribbean: At World's End</td>\n",
              "      <td>Action|Adventure|Fantasy</td>\n",
              "      <td>Gore Verbinski</td>\n",
              "    </tr>\n",
              "  </tbody>\n",
              "</table>\n",
              "</div>"
            ],
            "text/plain": [
              "  actor_1_name  ...   director_name\n",
              "0  CCH Pounder  ...   James Cameron\n",
              "1  Johnny Depp  ...  Gore Verbinski\n",
              "\n",
              "[2 rows x 6 columns]"
            ]
          },
          "metadata": {
            "tags": []
          },
          "execution_count": 65
        }
      ]
    },
    {
      "cell_type": "code",
      "metadata": {
        "colab": {
          "base_uri": "https://localhost:8080/"
        },
        "id": "8htTcRsNnzq1",
        "outputId": "eec72e70-08be-44fe-de22-c76fd4c3c581"
      },
      "source": [
        "df[columns].isnull().values.any()"
      ],
      "execution_count": 66,
      "outputs": [
        {
          "output_type": "execute_result",
          "data": {
            "text/plain": [
              "False"
            ]
          },
          "metadata": {
            "tags": []
          },
          "execution_count": 66
        }
      ]
    },
    {
      "cell_type": "code",
      "metadata": {
        "id": "HSdt1EgFoFbV"
      },
      "source": [
        "def get_important_features(data):\n",
        "  important_features = []\n",
        "  for i in range(df.shape[0]):\n",
        "    important_features.append(data['actor_1_name'][i] +' '+ data['actor_2_name'][i] +' ' + data['actor_3_name'][i] + ' ' + data['genres'][i] + ' '+ data['director_name'][i] + ' '+ data['movie_title'][i])\n",
        "    # print(len(important_features))\n",
        "  return important_features"
      ],
      "execution_count": 67,
      "outputs": []
    },
    {
      "cell_type": "code",
      "metadata": {
        "id": "ZON3t-Vpz39l",
        "colab": {
          "base_uri": "https://localhost:8080/",
          "height": 279
        },
        "outputId": "2ddd4e37-885a-4bd2-eb4f-ccf9a6d703a0"
      },
      "source": [
        "df['important_features'] = get_important_features(df)\n",
        "\n",
        "df.head(3)\n"
      ],
      "execution_count": 68,
      "outputs": [
        {
          "output_type": "execute_result",
          "data": {
            "text/html": [
              "<div>\n",
              "<style scoped>\n",
              "    .dataframe tbody tr th:only-of-type {\n",
              "        vertical-align: middle;\n",
              "    }\n",
              "\n",
              "    .dataframe tbody tr th {\n",
              "        vertical-align: top;\n",
              "    }\n",
              "\n",
              "    .dataframe thead th {\n",
              "        text-align: right;\n",
              "    }\n",
              "</style>\n",
              "<table border=\"1\" class=\"dataframe\">\n",
              "  <thead>\n",
              "    <tr style=\"text-align: right;\">\n",
              "      <th></th>\n",
              "      <th>director_name</th>\n",
              "      <th>duration</th>\n",
              "      <th>actor_2_name</th>\n",
              "      <th>genres</th>\n",
              "      <th>actor_1_name</th>\n",
              "      <th>movie_title</th>\n",
              "      <th>num_voted_users</th>\n",
              "      <th>actor_3_name</th>\n",
              "      <th>movie_imdb_link</th>\n",
              "      <th>num_user_for_reviews</th>\n",
              "      <th>language</th>\n",
              "      <th>country</th>\n",
              "      <th>title_year</th>\n",
              "      <th>imdb_score</th>\n",
              "      <th>id</th>\n",
              "      <th>important_features</th>\n",
              "    </tr>\n",
              "  </thead>\n",
              "  <tbody>\n",
              "    <tr>\n",
              "      <th>0</th>\n",
              "      <td>James Cameron</td>\n",
              "      <td>178.0</td>\n",
              "      <td>Joel David Moore</td>\n",
              "      <td>Action|Adventure|Fantasy|Sci-Fi</td>\n",
              "      <td>CCH Pounder</td>\n",
              "      <td>Avatar</td>\n",
              "      <td>886204</td>\n",
              "      <td>Wes Studi</td>\n",
              "      <td>http://www.imdb.com/title/tt0499549/?ref_=fn_t...</td>\n",
              "      <td>3054</td>\n",
              "      <td>English</td>\n",
              "      <td>USA</td>\n",
              "      <td>2009</td>\n",
              "      <td>7.9</td>\n",
              "      <td>0</td>\n",
              "      <td>CCH Pounder Joel David Moore Wes Studi Action|...</td>\n",
              "    </tr>\n",
              "    <tr>\n",
              "      <th>1</th>\n",
              "      <td>Gore Verbinski</td>\n",
              "      <td>169.0</td>\n",
              "      <td>Orlando Bloom</td>\n",
              "      <td>Action|Adventure|Fantasy</td>\n",
              "      <td>Johnny Depp</td>\n",
              "      <td>Pirates of the Caribbean: At World's End</td>\n",
              "      <td>471220</td>\n",
              "      <td>Jack Davenport</td>\n",
              "      <td>http://www.imdb.com/title/tt0449088/?ref_=fn_t...</td>\n",
              "      <td>1238</td>\n",
              "      <td>English</td>\n",
              "      <td>USA</td>\n",
              "      <td>2007</td>\n",
              "      <td>7.1</td>\n",
              "      <td>1</td>\n",
              "      <td>Johnny Depp Orlando Bloom Jack Davenport Actio...</td>\n",
              "    </tr>\n",
              "    <tr>\n",
              "      <th>2</th>\n",
              "      <td>Sam Mendes</td>\n",
              "      <td>148.0</td>\n",
              "      <td>Rory Kinnear</td>\n",
              "      <td>Action|Adventure|Thriller</td>\n",
              "      <td>Christoph Waltz</td>\n",
              "      <td>Spectre</td>\n",
              "      <td>275868</td>\n",
              "      <td>Stephanie Sigman</td>\n",
              "      <td>http://www.imdb.com/title/tt2379713/?ref_=fn_t...</td>\n",
              "      <td>994</td>\n",
              "      <td>English</td>\n",
              "      <td>UK</td>\n",
              "      <td>2015</td>\n",
              "      <td>6.8</td>\n",
              "      <td>2</td>\n",
              "      <td>Christoph Waltz Rory Kinnear Stephanie Sigman ...</td>\n",
              "    </tr>\n",
              "  </tbody>\n",
              "</table>\n",
              "</div>"
            ],
            "text/plain": [
              "    director_name  ...                                 important_features\n",
              "0   James Cameron  ...  CCH Pounder Joel David Moore Wes Studi Action|...\n",
              "1  Gore Verbinski  ...  Johnny Depp Orlando Bloom Jack Davenport Actio...\n",
              "2      Sam Mendes  ...  Christoph Waltz Rory Kinnear Stephanie Sigman ...\n",
              "\n",
              "[3 rows x 16 columns]"
            ]
          },
          "metadata": {
            "tags": []
          },
          "execution_count": 68
        }
      ]
    },
    {
      "cell_type": "code",
      "metadata": {
        "id": "x_Z0PAwjZosy"
      },
      "source": [
        "cm = CountVectorizer().fit_transform(df['important_features'])"
      ],
      "execution_count": 69,
      "outputs": []
    },
    {
      "cell_type": "code",
      "metadata": {
        "id": "S7X0lbxhrFSs"
      },
      "source": [
        "cs=cosine_similarity(cm)\n",
        "# print(cs[2959])"
      ],
      "execution_count": 70,
      "outputs": []
    },
    {
      "cell_type": "code",
      "metadata": {
        "colab": {
          "base_uri": "https://localhost:8080/"
        },
        "id": "g5kK2VbMrLyX",
        "outputId": "db03fa25-83e9-40e4-d018-3c686f62138e"
      },
      "source": [
        "cs.shape"
      ],
      "execution_count": 71,
      "outputs": [
        {
          "output_type": "execute_result",
          "data": {
            "text/plain": [
              "(1001, 1001)"
            ]
          },
          "metadata": {
            "tags": []
          },
          "execution_count": 71
        }
      ]
    },
    {
      "cell_type": "code",
      "metadata": {
        "id": "yRx5q0RArRPd"
      },
      "source": [
        "title = 'Spider-Man 3'\n",
        "\n",
        "movie_id = df[df.movie_title == title]['id'].values[0]"
      ],
      "execution_count": 72,
      "outputs": []
    },
    {
      "cell_type": "code",
      "metadata": {
        "colab": {
          "base_uri": "https://localhost:8080/"
        },
        "id": "cmUv-F6GwMW7",
        "outputId": "d3b054dc-4427-4f07-dd2c-f4df7ccb9c3c"
      },
      "source": [
        "print(movie_id)"
      ],
      "execution_count": 73,
      "outputs": [
        {
          "output_type": "stream",
          "text": [
            "5\n"
          ],
          "name": "stdout"
        }
      ]
    },
    {
      "cell_type": "code",
      "metadata": {
        "id": "PXw6N0PVvRyb"
      },
      "source": [
        "scores = list(enumerate(cs[movie_id]))\n",
        "scores = scores[1:]"
      ],
      "execution_count": 74,
      "outputs": []
    },
    {
      "cell_type": "code",
      "metadata": {
        "colab": {
          "base_uri": "https://localhost:8080/"
        },
        "id": "-sasPLA2wIkl",
        "outputId": "8d0d75e4-324d-43d8-899f-a31703b26f05"
      },
      "source": [
        "print(scores)"
      ],
      "execution_count": 75,
      "outputs": [
        {
          "output_type": "stream",
          "text": [
            "[(1, 0.13608276348795437), (2, 0.25000000000000006), (3, 0.07453559924999299), (4, 0.15430334996209194), (5, 1.0000000000000002), (6, 0.5000000000000001), (7, 0.14907119849998599), (8, 0.140028008402801), (9, 0.06622661785325219), (10, 0.140028008402801), (11, 0.15430334996209194), (12, 0.16012815380508716), (13, 0.20412414523193156), (14, 0.15430334996209194), (15, 0.2165063509461097), (16, 0.13245323570650439), (17, 0.14907119849998599), (18, 0.20412414523193156), (19, 0.13608276348795437), (20, 0.11785113019775795), (21, 0.29814239699997197), (22, 0.14433756729740646), (23, 0.13608276348795437), (24, 0.07453559924999299), (25, 0.2314550249431379), (26, 0.17407765595569785), (27, 0.140028008402801), (28, 0.14907119849998599), (29, 0.14433756729740646), (30, 0.25000000000000006), (31, 0.9258200997725514), (32, 0.2165063509461097), (33, 0.07715167498104597), (34, 0.13608276348795437), (35, 0.07453559924999299), (36, 0.140028008402801), (37, 0.14433756729740646), (38, 0.36084391824351614), (39, 0.280056016805602), (40, 0.2314550249431379), (41, 0.07453559924999299), (42, 0.15430334996209194), (43, 0.07216878364870323), (44, 0.16012815380508716), (45, 0.16012815380508716), (46, 0.140028008402801), (47, 0.13245323570650439), (48, 0.14907119849998599), (49, 0.07715167498104597), (50, 0.08006407690254358), (51, 0.18898223650461363), (52, 0.140028008402801), (53, 0.140028008402801), (54, 0.12309149097933274), (55, 0.06622661785325219), (56, 0.07715167498104597), (57, 0.14433756729740646), (58, 0.07453559924999299), (59, 0.07216878364870323), (60, 0.24019223070763074), (61, 0.0), (62, 0.15430334996209194), (63, 0.2100420126042015), (64, 0.049507377148833714), (65, 0.15430334996209194), (66, 0.07453559924999299), (67, 0.08006407690254358), (68, 0.13608276348795437), (69, 0.13245323570650439), (70, 0.07715167498104597), (71, 0.06804138174397718), (72, 0.12309149097933274), (73, 0.14433756729740646), (74, 0.0), (75, 0.14907119849998599), (76, 0.15430334996209194), (77, 0.13245323570650439), (78, 0.07216878364870323), (79, 0.07453559924999299), (80, 0.19364916731037085), (81, 0.2100420126042015), (82, 0.29814239699997197), (83, 0.11547005383792518), (84, 0.223606797749979), (85, 0.14907119849998599), (86, 0.140028008402801), (87, 0.0700140042014005), (88, 0.14907119849998599), (89, 0.12909944487358058), (90, 0.06804138174397718), (91, 0.07453559924999299), (92, 0.14907119849998599), (93, 0.0700140042014005), (94, 0.07453559924999299), (95, 0.2165063509461097), (96, 0.08006407690254358), (97, 0.14907119849998599), (98, 0.140028008402801), (99, 0.14907119849998599), (100, 0.06804138174397718), (101, 0.0700140042014005), (102, 0.14907119849998599), (103, 0.06454972243679029), (104, 0.14433756729740646), (105, 0.16012815380508716), (106, 0.14433756729740646), (107, 0.07216878364870323), (108, 0.1666666666666667), (109, 0.24019223070763074), (110, 0.05360562674188975), (111, 0.15430334996209194), (112, 0.14907119849998599), (113, 0.2100420126042015), (114, 0.06154574548966637), (115, 0.06622661785325219), (116, 0.08703882797784893), (117, 0.0), (118, 0.0700140042014005), (119, 0.0), (120, 0.1666666666666667), (121, 0.13608276348795437), (122, 0.06154574548966637), (123, 0.140028008402801), (124, 0.07715167498104597), (125, 0.07453559924999299), (126, 0.07715167498104597), (127, 0.14907119849998599), (128, 0.140028008402801), (129, 0.0), (130, 0.1666666666666667), (131, 0.14907119849998599), (132, 0.13608276348795437), (133, 0.2165063509461097), (134, 0.0), (135, 0.14907119849998599), (136, 0.0), (137, 0.2100420126042015), (138, 0.07715167498104597), (139, 0.13245323570650439), (140, 0.14907119849998599), (141, 0.15430334996209194), (142, 0.07715167498104597), (143, 0.13245323570650439), (144, 0.07216878364870323), (145, 0.08333333333333336), (146, 0.0700140042014005), (147, 0.0912870929175277), (148, 0.06804138174397718), (149, 0.15430334996209194), (150, 0.07453559924999299), (151, 0.15430334996209194), (152, 0.12909944487358058), (153, 0.16012815380508716), (154, 0.2100420126042015), (155, 0.14907119849998599), (156, 0.07216878364870323), (157, 0.0), (158, 0.07453559924999299), (159, 0.14907119849998599), (160, 0.16012815380508716), (161, 0.8807048459279794), (162, 0.12909944487358058), (163, 0.15430334996209194), (164, 0.2314550249431379), (165, 0.07715167498104597), (166, 0.07715167498104597), (167, 0.08333333333333336), (168, 0.14907119849998599), (169, 0.16012815380508716), (170, 0.24077170617153845), (171, 0.140028008402801), (172, 0.140028008402801), (173, 0.17677669529663692), (174, 0.13245323570650439), (175, 0.0), (176, 0.14907119849998599), (177, 0.08006407690254358), (178, 0.07453559924999299), (179, 0.07715167498104597), (180, 0.07715167498104597), (181, 0.07453559924999299), (182, 0.07453559924999299), (183, 0.140028008402801), (184, 0.16012815380508716), (185, 0.06454972243679029), (186, 0.13245323570650439), (187, 0.07216878364870323), (188, 0.0700140042014005), (189, 0.07453559924999299), (190, 0.140028008402801), (191, 0.07715167498104597), (192, 0.1666666666666667), (193, 0.14433756729740646), (194, 0.06622661785325219), (195, 0.16012815380508716), (196, 0.15430334996209194), (197, 0.08333333333333336), (198, 0.06804138174397718), (199, 0.06154574548966637), (200, 0.15430334996209194), (201, 0.0700140042014005), (202, 0.08703882797784893), (203, 0.140028008402801), (204, 0.1072112534837795), (205, 0.0), (206, 0.06299407883487121), (207, 0.0), (208, 0.07453559924999299), (209, 0.14433756729740646), (210, 0.08006407690254358), (211, 0.13245323570650439), (212, 0.14907119849998599), (213, 0.08006407690254358), (214, 0.15430334996209194), (215, 0.15430334996209194), (216, 0.08703882797784893), (217, 0.0), (218, 0.140028008402801), (219, 0.15430334996209194), (220, 0.14433756729740646), (221, 0.13245323570650439), (222, 0.08006407690254358), (223, 0.07715167498104597), (224, 0.08333333333333336), (225, 0.14907119849998599), (226, 0.08006407690254358), (227, 0.07216878364870323), (228, 0.07715167498104597), (229, 0.140028008402801), (230, 0.07715167498104597), (231, 0.08006407690254358), (232, 0.14907119849998599), (233, 0.2314550249431379), (234, 0.15430334996209194), (235, 0.12598815766974242), (236, 0.12598815766974242), (237, 0.14907119849998599), (238, 0.223606797749979), (239, 0.13245323570650439), (240, 0.07216878364870323), (241, 0.06622661785325219), (242, 0.08333333333333336), (243, 0.2100420126042015), (244, 0.140028008402801), (245, 0.07715167498104597), (246, 0.15430334996209194), (247, 0.12598815766974242), (248, 0.140028008402801), (249, 0.140028008402801), (250, 0.15430334996209194), (251, 0.14907119849998599), (252, 0.07715167498104597), (253, 0.0), (254, 0.13245323570650439), (255, 0.16012815380508716), (256, 0.0), (257, 0.15430334996209194), (258, 0.0700140042014005), (259, 0.0700140042014005), (260, 0.07453559924999299), (261, 0.0), (262, 0.223606797749979), (263, 0.07216878364870323), (264, 0.07216878364870323), (265, 0.14433756729740646), (266, 0.08006407690254358), (267, 0.14433756729740646), (268, 0.09622504486493763), (269, 0.13245323570650439), (270, 0.0), (271, 0.06622661785325219), (272, 0.07715167498104597), (273, 0.14433756729740646), (274, 0.07715167498104597), (275, 0.06299407883487121), (276, 0.07715167498104597), (277, 0.2165063509461097), (278, 0.08333333333333336), (279, 0.07216878364870323), (280, 0.1666666666666667), (281, 0.07453559924999299), (282, 0.06622661785325219), (283, 0.16012815380508716), (284, 0.13608276348795437), (285, 0.15430334996209194), (286, 0.07453559924999299), (287, 0.0), (288, 0.15430334996209194), (289, 0.07216878364870323), (290, 0.08006407690254358), (291, 0.07715167498104597), (292, 0.16012815380508716), (293, 0.0), (294, 0.06804138174397718), (295, 0.0700140042014005), (296, 0.15430334996209194), (297, 0.14907119849998599), (298, 0.16012815380508716), (299, 0.0700140042014005), (300, 0.08333333333333336), (301, 0.08006407690254358), (302, 0.14433756729740646), (303, 0.07453559924999299), (304, 0.08006407690254358), (305, 0.0), (306, 0.16012815380508716), (307, 0.07715167498104597), (308, 0.0), (309, 0.11322770341445959), (310, 0.16012815380508716), (311, 0.1666666666666667), (312, 0.07216878364870323), (313, 0.07216878364870323), (314, 0.15430334996209194), (315, 0.07453559924999299), (316, 0.0), (317, 0.12309149097933274), (318, 0.0700140042014005), (319, 0.07715167498104597), (320, 0.07453559924999299), (321, 0.0), (322, 0.14907119849998599), (323, 0.0), (324, 0.06804138174397718), (325, 0.0), (326, 0.0), (327, 0.07715167498104597), (328, 0.0), (329, 0.14907119849998599), (330, 0.0700140042014005), (331, 0.13608276348795437), (332, 0.07453559924999299), (333, 0.16012815380508716), (334, 0.0), (335, 0.07715167498104597), (336, 0.09622504486493763), (337, 0.11322770341445959), (338, 0.16012815380508716), (339, 0.140028008402801), (340, 0.07216878364870323), (341, 0.14433756729740646), (342, 0.17677669529663692), (343, 0.07715167498104597), (344, 0.07453559924999299), (345, 0.0), (346, 0.15430334996209194), (347, 0.16012815380508716), (348, 0.06454972243679029), (349, 0.0700140042014005), (350, 0.06804138174397718), (351, 0.08703882797784893), (352, 0.07216878364870323), (353, 0.0), (354, 0.0), (355, 0.13245323570650439), (356, 0.13245323570650439), (357, 0.15430334996209194), (358, 0.0), (359, 0.07216878364870323), (360, 0.08006407690254358), (361, 0.0), (362, 0.14907119849998599), (363, 0.13608276348795437), (364, 0.08006407690254358), (365, 0.13245323570650439), (366, 0.06019292654288461), (367, 0.0), (368, 0.07216878364870323), (369, 0.07715167498104597), (370, 0.07453559924999299), (371, 0.0), (372, 0.0), (373, 0.07453559924999299), (374, 0.0), (375, 0.06804138174397718), (376, 0.12598815766974242), (377, 0.13245323570650439), (378, 0.2165063509461097), (379, 0.08006407690254358), (380, 0.07216878364870323), (381, 0.07715167498104597), (382, 0.0), (383, 0.07715167498104597), (384, 0.07453559924999299), (385, 0.0), (386, 0.140028008402801), (387, 0.08333333333333336), (388, 0.0), (389, 0.07216878364870323), (390, 0.0), (391, 0.14907119849998599), (392, 0.06804138174397718), (393, 0.16012815380508716), (394, 0.07453559924999299), (395, 0.07715167498104597), (396, 0.14907119849998599), (397, 0.0), (398, 0.2314550249431379), (399, 0.0), (400, 0.07453559924999299), (401, 0.15430334996209194), (402, 0.08006407690254358), (403, 0.08006407690254358), (404, 0.08333333333333336), (405, 0.0700140042014005), (406, 0.08006407690254358), (407, 0.0), (408, 0.07715167498104597), (409, 0.16012815380508716), (410, 0.0), (411, 0.15430334996209194), (412, 0.2100420126042015), (413, 0.08333333333333336), (414, 0.06154574548966637), (415, 0.07453559924999299), (416, 0.07715167498104597), (417, 0.08006407690254358), (418, 0.0), (419, 0.07453559924999299), (420, 0.140028008402801), (421, 0.14433756729740646), (422, 0.0700140042014005), (423, 0.07216878364870323), (424, 0.08333333333333336), (425, 0.08006407690254358), (426, 0.0), (427, 0.06622661785325219), (428, 0.15430334996209194), (429, 0.12909944487358058), (430, 0.0), (431, 0.07216878364870323), (432, 0.0), (433, 0.140028008402801), (434, 0.14907119849998599), (435, 0.07216878364870323), (436, 0.0), (437, 0.08703882797784893), (438, 0.07453559924999299), (439, 0.06454972243679029), (440, 0.0), (441, 0.14433756729740646), (442, 0.07715167498104597), (443, 0.0), (444, 0.06622661785325219), (445, 0.0), (446, 0.16012815380508716), (447, 0.07453559924999299), (448, 0.0), (449, 0.08006407690254358), (450, 0.07453559924999299), (451, 0.07453559924999299), (452, 0.07216878364870323), (453, 0.07453559924999299), (454, 0.07715167498104597), (455, 0.08006407690254358), (456, 0.08333333333333336), (457, 0.14433756729740646), (458, 0.14433756729740646), (459, 0.08006407690254358), (460, 0.0), (461, 0.06804138174397718), (462, 0.07216878364870323), (463, 0.0), (464, 0.14907119849998599), (465, 0.08333333333333336), (466, 0.2165063509461097), (467, 0.07453559924999299), (468, 0.0700140042014005), (469, 0.08333333333333336), (470, 0.140028008402801), (471, 0.0), (472, 0.08006407690254358), (473, 0.0), (474, 0.14907119849998599), (475, 0.14433756729740646), (476, 0.1666666666666667), (477, 0.14907119849998599), (478, 0.07453559924999299), (479, 0.0), (480, 0.14433756729740646), (481, 0.07715167498104597), (482, 0.0), (483, 0.140028008402801), (484, 0.08006407690254358), (485, 0.0), (486, 0.16012815380508716), (487, 0.07453559924999299), (488, 0.15430334996209194), (489, 0.06454972243679029), (490, 0.08333333333333336), (491, 0.16012815380508716), (492, 0.14433756729740646), (493, 0.06804138174397718), (494, 0.14907119849998599), (495, 0.07715167498104597), (496, 0.07216878364870323), (497, 0.0), (498, 0.140028008402801), (499, 0.2314550249431379), (500, 0.0), (501, 0.0), (502, 0.07216878364870323), (503, 0.13245323570650439), (504, 0.0), (505, 0.0), (506, 0.2611164839335468), (507, 0.0), (508, 0.08006407690254358), (509, 0.2165063509461097), (510, 0.0), (511, 0.06622661785325219), (512, 0.0), (513, 0.13608276348795437), (514, 0.0), (515, 0.15430334996209194), (516, 0.13608276348795437), (517, 0.07453559924999299), (518, 0.0), (519, 0.16012815380508716), (520, 0.08006407690254358), (521, 0.14907119849998599), (522, 0.13608276348795437), (523, 0.07453559924999299), (524, 0.07453559924999299), (525, 0.07715167498104597), (526, 0.14433756729740646), (527, 0.0), (528, 0.0), (529, 0.0), (530, 0.0), (531, 0.15430334996209194), (532, 0.0), (533, 0.07216878364870323), (534, 0.0), (535, 0.0), (536, 0.0), (537, 0.07216878364870323), (538, 0.15430334996209194), (539, 0.2314550249431379), (540, 0.1666666666666667), (541, 0.0), (542, 0.07715167498104597), (543, 0.2314550249431379), (544, 0.07216878364870323), (545, 0.16012815380508716), (546, 0.07453559924999299), (547, 0.14907119849998599), (548, 0.07715167498104597), (549, 0.07715167498104597), (550, 0.0), (551, 0.0), (552, 0.14433756729740646), (553, 0.0), (554, 0.0700140042014005), (555, 0.08333333333333336), (556, 0.0), (557, 0.07453559924999299), (558, 0.0700140042014005), (559, 0.223606797749979), (560, 0.0), (561, 0.08006407690254358), (562, 0.06804138174397718), (563, 0.0), (564, 0.08006407690254358), (565, 0.25000000000000006), (566, 0.07715167498104597), (567, 0.08333333333333336), (568, 0.07715167498104597), (569, 0.0700140042014005), (570, 0.07453559924999299), (571, 0.0), (572, 0.0), (573, 0.14433756729740646), (574, 0.07216878364870323), (575, 0.08333333333333336), (576, 0.17407765595569785), (577, 0.06454972243679029), (578, 0.0), (579, 0.08006407690254358), (580, 0.08006407690254358), (581, 0.1666666666666667), (582, 0.16012815380508716), (583, 0.1666666666666667), (584, 0.07216878364870323), (585, 0.0), (586, 0.0700140042014005), (587, 0.0), (588, 0.07453559924999299), (589, 0.08006407690254358), (590, 0.12909944487358058), (591, 0.07715167498104597), (592, 0.08006407690254358), (593, 0.07715167498104597), (594, 0.0), (595, 0.0), (596, 0.14433756729740646), (597, 0.0), (598, 0.07453559924999299), (599, 0.08333333333333336), (600, 0.16012815380508716), (601, 0.0700140042014005), (602, 0.0), (603, 0.15430334996209194), (604, 0.15430334996209194), (605, 0.16012815380508716), (606, 0.140028008402801), (607, 0.14433756729740646), (608, 0.0), (609, 0.07715167498104597), (610, 0.08006407690254358), (611, 0.0700140042014005), (612, 0.07715167498104597), (613, 0.13608276348795437), (614, 0.06804138174397718), (615, 0.07715167498104597), (616, 0.12309149097933274), (617, 0.0), (618, 0.0700140042014005), (619, 0.14907119849998599), (620, 0.06804138174397718), (621, 0.14433756729740646), (622, 0.0), (623, 0.0), (624, 0.07453559924999299), (625, 0.0), (626, 0.15430334996209194), (627, 0.07453559924999299), (628, 0.08006407690254358), (629, 0.0), (630, 0.14433756729740646), (631, 0.07715167498104597), (632, 0.0), (633, 0.07453559924999299), (634, 0.16012815380508716), (635, 0.0), (636, 0.14907119849998599), (637, 0.07715167498104597), (638, 0.07453559924999299), (639, 0.07715167498104597), (640, 0.07715167498104597), (641, 0.0), (642, 0.0), (643, 0.08006407690254358), (644, 0.08006407690254358), (645, 0.08006407690254358), (646, 0.0), (647, 0.07715167498104597), (648, 0.07453559924999299), (649, 0.0), (650, 0.20412414523193156), (651, 0.0), (652, 0.0), (653, 0.140028008402801), (654, 0.17407765595569785), (655, 0.08006407690254358), (656, 0.0), (657, 0.0), (658, 0.1666666666666667), (659, 0.08333333333333336), (660, 0.0), (661, 0.0), (662, 0.08006407690254358), (663, 0.16012815380508716), (664, 0.13608276348795437), (665, 0.08006407690254358), (666, 0.0), (667, 0.07216878364870323), (668, 0.07715167498104597), (669, 0.0700140042014005), (670, 0.07715167498104597), (671, 0.13608276348795437), (672, 0.0), (673, 0.0), (674, 0.24019223070763074), (675, 0.0), (676, 0.07715167498104597), (677, 0.0), (678, 0.07715167498104597), (679, 0.06804138174397718), (680, 0.07715167498104597), (681, 0.0700140042014005), (682, 0.0), (683, 0.07453559924999299), (684, 0.0700140042014005), (685, 0.07715167498104597), (686, 0.07453559924999299), (687, 0.07216878364870323), (688, 0.14433756729740646), (689, 0.0), (690, 0.08703882797784893), (691, 0.07715167498104597), (692, 0.07715167498104597), (693, 0.07453559924999299), (694, 0.0), (695, 0.0), (696, 0.07715167498104597), (697, 0.08006407690254358), (698, 0.07715167498104597), (699, 0.0), (700, 0.0), (701, 0.16012815380508716), (702, 0.07216878364870323), (703, 0.0), (704, 0.07715167498104597), (705, 0.15430334996209194), (706, 0.0), (707, 0.0), (708, 0.06454972243679029), (709, 0.0), (710, 0.07453559924999299), (711, 0.07453559924999299), (712, 0.07715167498104597), (713, 0.08006407690254358), (714, 0.08006407690254358), (715, 0.0), (716, 0.07715167498104597), (717, 0.07216878364870323), (718, 0.07216878364870323), (719, 0.24019223070763074), (720, 0.07453559924999299), (721, 0.08006407690254358), (722, 0.0), (723, 0.07453559924999299), (724, 0.0), (725, 0.14907119849998599), (726, 0.07453559924999299), (727, 0.07715167498104597), (728, 0.07453559924999299), (729, 0.0), (730, 0.0), (731, 0.15430334996209194), (732, 0.0), (733, 0.0), (734, 0.14907119849998599), (735, 0.0), (736, 0.0), (737, 0.0), (738, 0.14907119849998599), (739, 0.0), (740, 0.07453559924999299), (741, 0.2314550249431379), (742, 0.07715167498104597), (743, 0.08006407690254358), (744, 0.140028008402801), (745, 0.07715167498104597), (746, 0.07715167498104597), (747, 0.07453559924999299), (748, 0.0), (749, 0.07453559924999299), (750, 0.07453559924999299), (751, 0.07715167498104597), (752, 0.0700140042014005), (753, 0.07715167498104597), (754, 0.140028008402801), (755, 0.07216878364870323), (756, 0.140028008402801), (757, 0.07715167498104597), (758, 0.08333333333333336), (759, 0.0), (760, 0.0), (761, 0.08006407690254358), (762, 0.0), (763, 0.08006407690254358), (764, 0.14433756729740646), (765, 0.14433756729740646), (766, 0.07715167498104597), (767, 0.0), (768, 0.0), (769, 0.0), (770, 0.0), (771, 0.07216878364870323), (772, 0.07715167498104597), (773, 0.0), (774, 0.0), (775, 0.07453559924999299), (776, 0.0), (777, 0.14433756729740646), (778, 0.07453559924999299), (779, 0.12598815766974242), (780, 0.0), (781, 0.14907119849998599), (782, 0.07715167498104597), (783, 0.0), (784, 0.37267799624996495), (785, 0.07453559924999299), (786, 0.0), (787, 0.07715167498104597), (788, 0.06804138174397718), (789, 0.14433756729740646), (790, 0.0), (791, 0.0), (792, 0.08333333333333336), (793, 0.07715167498104597), (794, 0.16012815380508716), (795, 0.12038585308576923), (796, 0.14907119849998599), (797, 0.12309149097933274), (798, 0.2314550249431379), (799, 0.223606797749979), (800, 0.0), (801, 0.07216878364870323), (802, 0.07715167498104597), (803, 0.07715167498104597), (804, 0.06622661785325219), (805, 0.15430334996209194), (806, 0.08006407690254358), (807, 0.0), (808, 0.0700140042014005), (809, 0.0), (810, 0.14433756729740646), (811, 0.14433756729740646), (812, 0.0), (813, 0.0), (814, 0.1666666666666667), (815, 0.07453559924999299), (816, 0.07216878364870323), (817, 0.07453559924999299), (818, 0.07453559924999299), (819, 0.08333333333333336), (820, 0.08006407690254358), (821, 0.0), (822, 0.0), (823, 0.14433756729740646), (824, 0.223606797749979), (825, 0.14433756729740646), (826, 0.08703882797784893), (827, 0.280056016805602), (828, 0.08006407690254358), (829, 0.0), (830, 0.2314550249431379), (831, 0.0), (832, 0.15430334996209194), (833, 0.07715167498104597), (834, 0.07715167498104597), (835, 0.07715167498104597), (836, 0.0), (837, 0.0), (838, 0.07715167498104597), (839, 0.08006407690254358), (840, 0.0), (841, 0.06804138174397718), (842, 0.15430334996209194), (843, 0.0), (844, 0.15430334996209194), (845, 0.1666666666666667), (846, 0.0), (847, 0.15430334996209194), (848, 0.07715167498104597), (849, 0.07715167498104597), (850, 0.0), (851, 0.15430334996209194), (852, 0.06622661785325219), (853, 0.0), (854, 0.07715167498104597), (855, 0.07715167498104597), (856, 0.0), (857, 0.0), (858, 0.0), (859, 0.0700140042014005), (860, 0.0), (861, 0.07453559924999299), (862, 0.07453559924999299), (863, 0.06622661785325219), (864, 0.0), (865, 0.08006407690254358), (866, 0.0), (867, 0.08703882797784893), (868, 0.0), (869, 0.14433756729740646), (870, 0.14907119849998599), (871, 0.08006407690254358), (872, 0.07216878364870323), (873, 0.1666666666666667), (874, 0.0), (875, 0.07216878364870323), (876, 0.08333333333333336), (877, 0.07715167498104597), (878, 0.0), (879, 0.25000000000000006), (880, 0.07715167498104597), (881, 0.223606797749979), (882, 0.08333333333333336), (883, 0.0), (884, 0.08006407690254358), (885, 0.280056016805602), (886, 0.08006407690254358), (887, 0.0), (888, 0.0), (889, 0.0), (890, 0.0), (891, 0.08333333333333336), (892, 0.0), (893, 0.0700140042014005), (894, 0.0), (895, 0.0), (896, 0.07453559924999299), (897, 0.07715167498104597), (898, 0.08333333333333336), (899, 0.14907119849998599), (900, 0.0), (901, 0.0), (902, 0.07453559924999299), (903, 0.0), (904, 0.07453559924999299), (905, 0.08333333333333336), (906, 0.0), (907, 0.0), (908, 0.0), (909, 0.140028008402801), (910, 0.07715167498104597), (911, 0.07453559924999299), (912, 0.2100420126042015), (913, 0.07715167498104597), (914, 0.0), (915, 0.13608276348795437), (916, 0.07453559924999299), (917, 0.0), (918, 0.08333333333333336), (919, 0.0), (920, 0.0), (921, 0.0700140042014005), (922, 0.07453559924999299), (923, 0.12309149097933274), (924, 0.08333333333333336), (925, 0.07715167498104597), (926, 0.0), (927, 0.0), (928, 0.07216878364870323), (929, 0.07715167498104597), (930, 0.07715167498104597), (931, 0.14907119849998599), (932, 0.0), (933, 0.0), (934, 0.08006407690254358), (935, 0.0), (936, 0.07715167498104597), (937, 0.0), (938, 0.0), (939, 0.0), (940, 0.08333333333333336), (941, 0.07715167498104597), (942, 0.12909944487358058), (943, 0.16012815380508716), (944, 0.15430334996209194), (945, 0.07715167498104597), (946, 0.140028008402801), (947, 0.0), (948, 0.07216878364870323), (949, 0.0), (950, 0.14907119849998599), (951, 0.0), (952, 0.14907119849998599), (953, 0.12598815766974242), (954, 0.0), (955, 0.06804138174397718), (956, 0.08006407690254358), (957, 0.0), (958, 0.07715167498104597), (959, 0.0), (960, 0.0), (961, 0.07216878364870323), (962, 0.07715167498104597), (963, 0.07216878364870323), (964, 0.0), (965, 0.0), (966, 0.08006407690254358), (967, 0.07216878364870323), (968, 0.0700140042014005), (969, 0.07453559924999299), (970, 0.14907119849998599), (971, 0.12598815766974242), (972, 0.07715167498104597), (973, 0.08006407690254358), (974, 0.1666666666666667), (975, 0.29814239699997197), (976, 0.0), (977, 0.0), (978, 0.0), (979, 0.0), (980, 0.08333333333333336), (981, 0.0), (982, 0.07453559924999299), (983, 0.223606797749979), (984, 0.07453559924999299), (985, 0.06622661785325219), (986, 0.0700140042014005), (987, 0.14907119849998599), (988, 0.12909944487358058), (989, 0.06804138174397718), (990, 0.0700140042014005), (991, 0.0), (992, 0.15430334996209194), (993, 0.07453559924999299), (994, 0.0), (995, 0.223606797749979), (996, 0.05773502691896259), (997, 0.2314550249431379), (998, 0.0), (999, 0.0), (1000, 0.06804138174397718)]\n"
          ],
          "name": "stdout"
        }
      ]
    },
    {
      "cell_type": "code",
      "metadata": {
        "id": "2GJazRs5vhbj"
      },
      "source": [
        "sorted_scores = sorted(scores, key = lambda x:x[1], reverse = True)\n",
        "sorted_scores = sorted_scores[1:]"
      ],
      "execution_count": 76,
      "outputs": []
    },
    {
      "cell_type": "code",
      "metadata": {
        "colab": {
          "base_uri": "https://localhost:8080/"
        },
        "id": "7osVMLm8v5Fr",
        "outputId": "b02d31a9-c166-4b32-b3b6-c1fa849ad2ac"
      },
      "source": [
        "print(sorted_scores)"
      ],
      "execution_count": 77,
      "outputs": [
        {
          "output_type": "stream",
          "text": [
            "[(31, 0.9258200997725514), (161, 0.8807048459279794), (6, 0.5000000000000001), (784, 0.37267799624996495), (38, 0.36084391824351614), (21, 0.29814239699997197), (82, 0.29814239699997197), (975, 0.29814239699997197), (39, 0.280056016805602), (827, 0.280056016805602), (885, 0.280056016805602), (506, 0.2611164839335468), (2, 0.25000000000000006), (30, 0.25000000000000006), (565, 0.25000000000000006), (879, 0.25000000000000006), (170, 0.24077170617153845), (60, 0.24019223070763074), (109, 0.24019223070763074), (674, 0.24019223070763074), (719, 0.24019223070763074), (25, 0.2314550249431379), (40, 0.2314550249431379), (164, 0.2314550249431379), (233, 0.2314550249431379), (398, 0.2314550249431379), (499, 0.2314550249431379), (539, 0.2314550249431379), (543, 0.2314550249431379), (741, 0.2314550249431379), (798, 0.2314550249431379), (830, 0.2314550249431379), (997, 0.2314550249431379), (84, 0.223606797749979), (238, 0.223606797749979), (262, 0.223606797749979), (559, 0.223606797749979), (799, 0.223606797749979), (824, 0.223606797749979), (881, 0.223606797749979), (983, 0.223606797749979), (995, 0.223606797749979), (15, 0.2165063509461097), (32, 0.2165063509461097), (95, 0.2165063509461097), (133, 0.2165063509461097), (277, 0.2165063509461097), (378, 0.2165063509461097), (466, 0.2165063509461097), (509, 0.2165063509461097), (63, 0.2100420126042015), (81, 0.2100420126042015), (113, 0.2100420126042015), (137, 0.2100420126042015), (154, 0.2100420126042015), (243, 0.2100420126042015), (412, 0.2100420126042015), (912, 0.2100420126042015), (13, 0.20412414523193156), (18, 0.20412414523193156), (650, 0.20412414523193156), (80, 0.19364916731037085), (51, 0.18898223650461363), (173, 0.17677669529663692), (342, 0.17677669529663692), (26, 0.17407765595569785), (576, 0.17407765595569785), (654, 0.17407765595569785), (108, 0.1666666666666667), (120, 0.1666666666666667), (130, 0.1666666666666667), (192, 0.1666666666666667), (280, 0.1666666666666667), (311, 0.1666666666666667), (476, 0.1666666666666667), (540, 0.1666666666666667), (581, 0.1666666666666667), (583, 0.1666666666666667), (658, 0.1666666666666667), (814, 0.1666666666666667), (845, 0.1666666666666667), (873, 0.1666666666666667), (974, 0.1666666666666667), (12, 0.16012815380508716), (44, 0.16012815380508716), (45, 0.16012815380508716), (105, 0.16012815380508716), (153, 0.16012815380508716), (160, 0.16012815380508716), (169, 0.16012815380508716), (184, 0.16012815380508716), (195, 0.16012815380508716), (255, 0.16012815380508716), (283, 0.16012815380508716), (292, 0.16012815380508716), (298, 0.16012815380508716), (306, 0.16012815380508716), (310, 0.16012815380508716), (333, 0.16012815380508716), (338, 0.16012815380508716), (347, 0.16012815380508716), (393, 0.16012815380508716), (409, 0.16012815380508716), (446, 0.16012815380508716), (486, 0.16012815380508716), (491, 0.16012815380508716), (519, 0.16012815380508716), (545, 0.16012815380508716), (582, 0.16012815380508716), (600, 0.16012815380508716), (605, 0.16012815380508716), (634, 0.16012815380508716), (663, 0.16012815380508716), (701, 0.16012815380508716), (794, 0.16012815380508716), (943, 0.16012815380508716), (4, 0.15430334996209194), (11, 0.15430334996209194), (14, 0.15430334996209194), (42, 0.15430334996209194), (62, 0.15430334996209194), (65, 0.15430334996209194), (76, 0.15430334996209194), (111, 0.15430334996209194), (141, 0.15430334996209194), (149, 0.15430334996209194), (151, 0.15430334996209194), (163, 0.15430334996209194), (196, 0.15430334996209194), (200, 0.15430334996209194), (214, 0.15430334996209194), (215, 0.15430334996209194), (219, 0.15430334996209194), (234, 0.15430334996209194), (246, 0.15430334996209194), (250, 0.15430334996209194), (257, 0.15430334996209194), (285, 0.15430334996209194), (288, 0.15430334996209194), (296, 0.15430334996209194), (314, 0.15430334996209194), (346, 0.15430334996209194), (357, 0.15430334996209194), (401, 0.15430334996209194), (411, 0.15430334996209194), (428, 0.15430334996209194), (488, 0.15430334996209194), (515, 0.15430334996209194), (531, 0.15430334996209194), (538, 0.15430334996209194), (603, 0.15430334996209194), (604, 0.15430334996209194), (626, 0.15430334996209194), (705, 0.15430334996209194), (731, 0.15430334996209194), (805, 0.15430334996209194), (832, 0.15430334996209194), (842, 0.15430334996209194), (844, 0.15430334996209194), (847, 0.15430334996209194), (851, 0.15430334996209194), (944, 0.15430334996209194), (992, 0.15430334996209194), (7, 0.14907119849998599), (17, 0.14907119849998599), (28, 0.14907119849998599), (48, 0.14907119849998599), (75, 0.14907119849998599), (85, 0.14907119849998599), (88, 0.14907119849998599), (92, 0.14907119849998599), (97, 0.14907119849998599), (99, 0.14907119849998599), (102, 0.14907119849998599), (112, 0.14907119849998599), (127, 0.14907119849998599), (131, 0.14907119849998599), (135, 0.14907119849998599), (140, 0.14907119849998599), (155, 0.14907119849998599), (159, 0.14907119849998599), (168, 0.14907119849998599), (176, 0.14907119849998599), (212, 0.14907119849998599), (225, 0.14907119849998599), (232, 0.14907119849998599), (237, 0.14907119849998599), (251, 0.14907119849998599), (297, 0.14907119849998599), (322, 0.14907119849998599), (329, 0.14907119849998599), (362, 0.14907119849998599), (391, 0.14907119849998599), (396, 0.14907119849998599), (434, 0.14907119849998599), (464, 0.14907119849998599), (474, 0.14907119849998599), (477, 0.14907119849998599), (494, 0.14907119849998599), (521, 0.14907119849998599), (547, 0.14907119849998599), (619, 0.14907119849998599), (636, 0.14907119849998599), (725, 0.14907119849998599), (734, 0.14907119849998599), (738, 0.14907119849998599), (781, 0.14907119849998599), (796, 0.14907119849998599), (870, 0.14907119849998599), (899, 0.14907119849998599), (931, 0.14907119849998599), (950, 0.14907119849998599), (952, 0.14907119849998599), (970, 0.14907119849998599), (987, 0.14907119849998599), (22, 0.14433756729740646), (29, 0.14433756729740646), (37, 0.14433756729740646), (57, 0.14433756729740646), (73, 0.14433756729740646), (104, 0.14433756729740646), (106, 0.14433756729740646), (193, 0.14433756729740646), (209, 0.14433756729740646), (220, 0.14433756729740646), (265, 0.14433756729740646), (267, 0.14433756729740646), (273, 0.14433756729740646), (302, 0.14433756729740646), (341, 0.14433756729740646), (421, 0.14433756729740646), (441, 0.14433756729740646), (457, 0.14433756729740646), (458, 0.14433756729740646), (475, 0.14433756729740646), (480, 0.14433756729740646), (492, 0.14433756729740646), (526, 0.14433756729740646), (552, 0.14433756729740646), (573, 0.14433756729740646), (596, 0.14433756729740646), (607, 0.14433756729740646), (621, 0.14433756729740646), (630, 0.14433756729740646), (688, 0.14433756729740646), (764, 0.14433756729740646), (765, 0.14433756729740646), (777, 0.14433756729740646), (789, 0.14433756729740646), (810, 0.14433756729740646), (811, 0.14433756729740646), (823, 0.14433756729740646), (825, 0.14433756729740646), (869, 0.14433756729740646), (8, 0.140028008402801), (10, 0.140028008402801), (27, 0.140028008402801), (36, 0.140028008402801), (46, 0.140028008402801), (52, 0.140028008402801), (53, 0.140028008402801), (86, 0.140028008402801), (98, 0.140028008402801), (123, 0.140028008402801), (128, 0.140028008402801), (171, 0.140028008402801), (172, 0.140028008402801), (183, 0.140028008402801), (190, 0.140028008402801), (203, 0.140028008402801), (218, 0.140028008402801), (229, 0.140028008402801), (244, 0.140028008402801), (248, 0.140028008402801), (249, 0.140028008402801), (339, 0.140028008402801), (386, 0.140028008402801), (420, 0.140028008402801), (433, 0.140028008402801), (470, 0.140028008402801), (483, 0.140028008402801), (498, 0.140028008402801), (606, 0.140028008402801), (653, 0.140028008402801), (744, 0.140028008402801), (754, 0.140028008402801), (756, 0.140028008402801), (909, 0.140028008402801), (946, 0.140028008402801), (1, 0.13608276348795437), (19, 0.13608276348795437), (23, 0.13608276348795437), (34, 0.13608276348795437), (68, 0.13608276348795437), (121, 0.13608276348795437), (132, 0.13608276348795437), (284, 0.13608276348795437), (331, 0.13608276348795437), (363, 0.13608276348795437), (513, 0.13608276348795437), (516, 0.13608276348795437), (522, 0.13608276348795437), (613, 0.13608276348795437), (664, 0.13608276348795437), (671, 0.13608276348795437), (915, 0.13608276348795437), (16, 0.13245323570650439), (47, 0.13245323570650439), (69, 0.13245323570650439), (77, 0.13245323570650439), (139, 0.13245323570650439), (143, 0.13245323570650439), (174, 0.13245323570650439), (186, 0.13245323570650439), (211, 0.13245323570650439), (221, 0.13245323570650439), (239, 0.13245323570650439), (254, 0.13245323570650439), (269, 0.13245323570650439), (355, 0.13245323570650439), (356, 0.13245323570650439), (365, 0.13245323570650439), (377, 0.13245323570650439), (503, 0.13245323570650439), (89, 0.12909944487358058), (152, 0.12909944487358058), (162, 0.12909944487358058), (429, 0.12909944487358058), (590, 0.12909944487358058), (942, 0.12909944487358058), (988, 0.12909944487358058), (235, 0.12598815766974242), (236, 0.12598815766974242), (247, 0.12598815766974242), (376, 0.12598815766974242), (779, 0.12598815766974242), (953, 0.12598815766974242), (971, 0.12598815766974242), (54, 0.12309149097933274), (72, 0.12309149097933274), (317, 0.12309149097933274), (616, 0.12309149097933274), (797, 0.12309149097933274), (923, 0.12309149097933274), (795, 0.12038585308576923), (20, 0.11785113019775795), (83, 0.11547005383792518), (309, 0.11322770341445959), (337, 0.11322770341445959), (204, 0.1072112534837795), (268, 0.09622504486493763), (336, 0.09622504486493763), (147, 0.0912870929175277), (116, 0.08703882797784893), (202, 0.08703882797784893), (216, 0.08703882797784893), (351, 0.08703882797784893), (437, 0.08703882797784893), (690, 0.08703882797784893), (826, 0.08703882797784893), (867, 0.08703882797784893), (145, 0.08333333333333336), (167, 0.08333333333333336), (197, 0.08333333333333336), (224, 0.08333333333333336), (242, 0.08333333333333336), (278, 0.08333333333333336), (300, 0.08333333333333336), (387, 0.08333333333333336), (404, 0.08333333333333336), (413, 0.08333333333333336), (424, 0.08333333333333336), (456, 0.08333333333333336), (465, 0.08333333333333336), (469, 0.08333333333333336), (490, 0.08333333333333336), (555, 0.08333333333333336), (567, 0.08333333333333336), (575, 0.08333333333333336), (599, 0.08333333333333336), (659, 0.08333333333333336), (758, 0.08333333333333336), (792, 0.08333333333333336), (819, 0.08333333333333336), (876, 0.08333333333333336), (882, 0.08333333333333336), (891, 0.08333333333333336), (898, 0.08333333333333336), (905, 0.08333333333333336), (918, 0.08333333333333336), (924, 0.08333333333333336), (940, 0.08333333333333336), (980, 0.08333333333333336), (50, 0.08006407690254358), (67, 0.08006407690254358), (96, 0.08006407690254358), (177, 0.08006407690254358), (210, 0.08006407690254358), (213, 0.08006407690254358), (222, 0.08006407690254358), (226, 0.08006407690254358), (231, 0.08006407690254358), (266, 0.08006407690254358), (290, 0.08006407690254358), (301, 0.08006407690254358), (304, 0.08006407690254358), (360, 0.08006407690254358), (364, 0.08006407690254358), (379, 0.08006407690254358), (402, 0.08006407690254358), (403, 0.08006407690254358), (406, 0.08006407690254358), (417, 0.08006407690254358), (425, 0.08006407690254358), (449, 0.08006407690254358), (455, 0.08006407690254358), (459, 0.08006407690254358), (472, 0.08006407690254358), (484, 0.08006407690254358), (508, 0.08006407690254358), (520, 0.08006407690254358), (561, 0.08006407690254358), (564, 0.08006407690254358), (579, 0.08006407690254358), (580, 0.08006407690254358), (589, 0.08006407690254358), (592, 0.08006407690254358), (610, 0.08006407690254358), (628, 0.08006407690254358), (643, 0.08006407690254358), (644, 0.08006407690254358), (645, 0.08006407690254358), (655, 0.08006407690254358), (662, 0.08006407690254358), (665, 0.08006407690254358), (697, 0.08006407690254358), (713, 0.08006407690254358), (714, 0.08006407690254358), (721, 0.08006407690254358), (743, 0.08006407690254358), (761, 0.08006407690254358), (763, 0.08006407690254358), (806, 0.08006407690254358), (820, 0.08006407690254358), (828, 0.08006407690254358), (839, 0.08006407690254358), (865, 0.08006407690254358), (871, 0.08006407690254358), (884, 0.08006407690254358), (886, 0.08006407690254358), (934, 0.08006407690254358), (956, 0.08006407690254358), (966, 0.08006407690254358), (973, 0.08006407690254358), (33, 0.07715167498104597), (49, 0.07715167498104597), (56, 0.07715167498104597), (70, 0.07715167498104597), (124, 0.07715167498104597), (126, 0.07715167498104597), (138, 0.07715167498104597), (142, 0.07715167498104597), (165, 0.07715167498104597), (166, 0.07715167498104597), (179, 0.07715167498104597), (180, 0.07715167498104597), (191, 0.07715167498104597), (223, 0.07715167498104597), (228, 0.07715167498104597), (230, 0.07715167498104597), (245, 0.07715167498104597), (252, 0.07715167498104597), (272, 0.07715167498104597), (274, 0.07715167498104597), (276, 0.07715167498104597), (291, 0.07715167498104597), (307, 0.07715167498104597), (319, 0.07715167498104597), (327, 0.07715167498104597), (335, 0.07715167498104597), (343, 0.07715167498104597), (369, 0.07715167498104597), (381, 0.07715167498104597), (383, 0.07715167498104597), (395, 0.07715167498104597), (408, 0.07715167498104597), (416, 0.07715167498104597), (442, 0.07715167498104597), (454, 0.07715167498104597), (481, 0.07715167498104597), (495, 0.07715167498104597), (525, 0.07715167498104597), (542, 0.07715167498104597), (548, 0.07715167498104597), (549, 0.07715167498104597), (566, 0.07715167498104597), (568, 0.07715167498104597), (591, 0.07715167498104597), (593, 0.07715167498104597), (609, 0.07715167498104597), (612, 0.07715167498104597), (615, 0.07715167498104597), (631, 0.07715167498104597), (637, 0.07715167498104597), (639, 0.07715167498104597), (640, 0.07715167498104597), (647, 0.07715167498104597), (668, 0.07715167498104597), (670, 0.07715167498104597), (676, 0.07715167498104597), (678, 0.07715167498104597), (680, 0.07715167498104597), (685, 0.07715167498104597), (691, 0.07715167498104597), (692, 0.07715167498104597), (696, 0.07715167498104597), (698, 0.07715167498104597), (704, 0.07715167498104597), (712, 0.07715167498104597), (716, 0.07715167498104597), (727, 0.07715167498104597), (742, 0.07715167498104597), (745, 0.07715167498104597), (746, 0.07715167498104597), (751, 0.07715167498104597), (753, 0.07715167498104597), (757, 0.07715167498104597), (766, 0.07715167498104597), (772, 0.07715167498104597), (782, 0.07715167498104597), (787, 0.07715167498104597), (793, 0.07715167498104597), (802, 0.07715167498104597), (803, 0.07715167498104597), (833, 0.07715167498104597), (834, 0.07715167498104597), (835, 0.07715167498104597), (838, 0.07715167498104597), (848, 0.07715167498104597), (849, 0.07715167498104597), (854, 0.07715167498104597), (855, 0.07715167498104597), (877, 0.07715167498104597), (880, 0.07715167498104597), (897, 0.07715167498104597), (910, 0.07715167498104597), (913, 0.07715167498104597), (925, 0.07715167498104597), (929, 0.07715167498104597), (930, 0.07715167498104597), (936, 0.07715167498104597), (941, 0.07715167498104597), (945, 0.07715167498104597), (958, 0.07715167498104597), (962, 0.07715167498104597), (972, 0.07715167498104597), (3, 0.07453559924999299), (24, 0.07453559924999299), (35, 0.07453559924999299), (41, 0.07453559924999299), (58, 0.07453559924999299), (66, 0.07453559924999299), (79, 0.07453559924999299), (91, 0.07453559924999299), (94, 0.07453559924999299), (125, 0.07453559924999299), (150, 0.07453559924999299), (158, 0.07453559924999299), (178, 0.07453559924999299), (181, 0.07453559924999299), (182, 0.07453559924999299), (189, 0.07453559924999299), (208, 0.07453559924999299), (260, 0.07453559924999299), (281, 0.07453559924999299), (286, 0.07453559924999299), (303, 0.07453559924999299), (315, 0.07453559924999299), (320, 0.07453559924999299), (332, 0.07453559924999299), (344, 0.07453559924999299), (370, 0.07453559924999299), (373, 0.07453559924999299), (384, 0.07453559924999299), (394, 0.07453559924999299), (400, 0.07453559924999299), (415, 0.07453559924999299), (419, 0.07453559924999299), (438, 0.07453559924999299), (447, 0.07453559924999299), (450, 0.07453559924999299), (451, 0.07453559924999299), (453, 0.07453559924999299), (467, 0.07453559924999299), (478, 0.07453559924999299), (487, 0.07453559924999299), (517, 0.07453559924999299), (523, 0.07453559924999299), (524, 0.07453559924999299), (546, 0.07453559924999299), (557, 0.07453559924999299), (570, 0.07453559924999299), (588, 0.07453559924999299), (598, 0.07453559924999299), (624, 0.07453559924999299), (627, 0.07453559924999299), (633, 0.07453559924999299), (638, 0.07453559924999299), (648, 0.07453559924999299), (683, 0.07453559924999299), (686, 0.07453559924999299), (693, 0.07453559924999299), (710, 0.07453559924999299), (711, 0.07453559924999299), (720, 0.07453559924999299), (723, 0.07453559924999299), (726, 0.07453559924999299), (728, 0.07453559924999299), (740, 0.07453559924999299), (747, 0.07453559924999299), (749, 0.07453559924999299), (750, 0.07453559924999299), (775, 0.07453559924999299), (778, 0.07453559924999299), (785, 0.07453559924999299), (815, 0.07453559924999299), (817, 0.07453559924999299), (818, 0.07453559924999299), (861, 0.07453559924999299), (862, 0.07453559924999299), (896, 0.07453559924999299), (902, 0.07453559924999299), (904, 0.07453559924999299), (911, 0.07453559924999299), (916, 0.07453559924999299), (922, 0.07453559924999299), (969, 0.07453559924999299), (982, 0.07453559924999299), (984, 0.07453559924999299), (993, 0.07453559924999299), (43, 0.07216878364870323), (59, 0.07216878364870323), (78, 0.07216878364870323), (107, 0.07216878364870323), (144, 0.07216878364870323), (156, 0.07216878364870323), (187, 0.07216878364870323), (227, 0.07216878364870323), (240, 0.07216878364870323), (263, 0.07216878364870323), (264, 0.07216878364870323), (279, 0.07216878364870323), (289, 0.07216878364870323), (312, 0.07216878364870323), (313, 0.07216878364870323), (340, 0.07216878364870323), (352, 0.07216878364870323), (359, 0.07216878364870323), (368, 0.07216878364870323), (380, 0.07216878364870323), (389, 0.07216878364870323), (423, 0.07216878364870323), (431, 0.07216878364870323), (435, 0.07216878364870323), (452, 0.07216878364870323), (462, 0.07216878364870323), (496, 0.07216878364870323), (502, 0.07216878364870323), (533, 0.07216878364870323), (537, 0.07216878364870323), (544, 0.07216878364870323), (574, 0.07216878364870323), (584, 0.07216878364870323), (667, 0.07216878364870323), (687, 0.07216878364870323), (702, 0.07216878364870323), (717, 0.07216878364870323), (718, 0.07216878364870323), (755, 0.07216878364870323), (771, 0.07216878364870323), (801, 0.07216878364870323), (816, 0.07216878364870323), (872, 0.07216878364870323), (875, 0.07216878364870323), (928, 0.07216878364870323), (948, 0.07216878364870323), (961, 0.07216878364870323), (963, 0.07216878364870323), (967, 0.07216878364870323), (87, 0.0700140042014005), (93, 0.0700140042014005), (101, 0.0700140042014005), (118, 0.0700140042014005), (146, 0.0700140042014005), (188, 0.0700140042014005), (201, 0.0700140042014005), (258, 0.0700140042014005), (259, 0.0700140042014005), (295, 0.0700140042014005), (299, 0.0700140042014005), (318, 0.0700140042014005), (330, 0.0700140042014005), (349, 0.0700140042014005), (405, 0.0700140042014005), (422, 0.0700140042014005), (468, 0.0700140042014005), (554, 0.0700140042014005), (558, 0.0700140042014005), (569, 0.0700140042014005), (586, 0.0700140042014005), (601, 0.0700140042014005), (611, 0.0700140042014005), (618, 0.0700140042014005), (669, 0.0700140042014005), (681, 0.0700140042014005), (684, 0.0700140042014005), (752, 0.0700140042014005), (808, 0.0700140042014005), (859, 0.0700140042014005), (893, 0.0700140042014005), (921, 0.0700140042014005), (968, 0.0700140042014005), (986, 0.0700140042014005), (990, 0.0700140042014005), (71, 0.06804138174397718), (90, 0.06804138174397718), (100, 0.06804138174397718), (148, 0.06804138174397718), (198, 0.06804138174397718), (294, 0.06804138174397718), (324, 0.06804138174397718), (350, 0.06804138174397718), (375, 0.06804138174397718), (392, 0.06804138174397718), (461, 0.06804138174397718), (493, 0.06804138174397718), (562, 0.06804138174397718), (614, 0.06804138174397718), (620, 0.06804138174397718), (679, 0.06804138174397718), (788, 0.06804138174397718), (841, 0.06804138174397718), (955, 0.06804138174397718), (989, 0.06804138174397718), (1000, 0.06804138174397718), (9, 0.06622661785325219), (55, 0.06622661785325219), (115, 0.06622661785325219), (194, 0.06622661785325219), (241, 0.06622661785325219), (271, 0.06622661785325219), (282, 0.06622661785325219), (427, 0.06622661785325219), (444, 0.06622661785325219), (511, 0.06622661785325219), (804, 0.06622661785325219), (852, 0.06622661785325219), (863, 0.06622661785325219), (985, 0.06622661785325219), (103, 0.06454972243679029), (185, 0.06454972243679029), (348, 0.06454972243679029), (439, 0.06454972243679029), (489, 0.06454972243679029), (577, 0.06454972243679029), (708, 0.06454972243679029), (206, 0.06299407883487121), (275, 0.06299407883487121), (114, 0.06154574548966637), (122, 0.06154574548966637), (199, 0.06154574548966637), (414, 0.06154574548966637), (366, 0.06019292654288461), (996, 0.05773502691896259), (110, 0.05360562674188975), (64, 0.049507377148833714), (61, 0.0), (74, 0.0), (117, 0.0), (119, 0.0), (129, 0.0), (134, 0.0), (136, 0.0), (157, 0.0), (175, 0.0), (205, 0.0), (207, 0.0), (217, 0.0), (253, 0.0), (256, 0.0), (261, 0.0), (270, 0.0), (287, 0.0), (293, 0.0), (305, 0.0), (308, 0.0), (316, 0.0), (321, 0.0), (323, 0.0), (325, 0.0), (326, 0.0), (328, 0.0), (334, 0.0), (345, 0.0), (353, 0.0), (354, 0.0), (358, 0.0), (361, 0.0), (367, 0.0), (371, 0.0), (372, 0.0), (374, 0.0), (382, 0.0), (385, 0.0), (388, 0.0), (390, 0.0), (397, 0.0), (399, 0.0), (407, 0.0), (410, 0.0), (418, 0.0), (426, 0.0), (430, 0.0), (432, 0.0), (436, 0.0), (440, 0.0), (443, 0.0), (445, 0.0), (448, 0.0), (460, 0.0), (463, 0.0), (471, 0.0), (473, 0.0), (479, 0.0), (482, 0.0), (485, 0.0), (497, 0.0), (500, 0.0), (501, 0.0), (504, 0.0), (505, 0.0), (507, 0.0), (510, 0.0), (512, 0.0), (514, 0.0), (518, 0.0), (527, 0.0), (528, 0.0), (529, 0.0), (530, 0.0), (532, 0.0), (534, 0.0), (535, 0.0), (536, 0.0), (541, 0.0), (550, 0.0), (551, 0.0), (553, 0.0), (556, 0.0), (560, 0.0), (563, 0.0), (571, 0.0), (572, 0.0), (578, 0.0), (585, 0.0), (587, 0.0), (594, 0.0), (595, 0.0), (597, 0.0), (602, 0.0), (608, 0.0), (617, 0.0), (622, 0.0), (623, 0.0), (625, 0.0), (629, 0.0), (632, 0.0), (635, 0.0), (641, 0.0), (642, 0.0), (646, 0.0), (649, 0.0), (651, 0.0), (652, 0.0), (656, 0.0), (657, 0.0), (660, 0.0), (661, 0.0), (666, 0.0), (672, 0.0), (673, 0.0), (675, 0.0), (677, 0.0), (682, 0.0), (689, 0.0), (694, 0.0), (695, 0.0), (699, 0.0), (700, 0.0), (703, 0.0), (706, 0.0), (707, 0.0), (709, 0.0), (715, 0.0), (722, 0.0), (724, 0.0), (729, 0.0), (730, 0.0), (732, 0.0), (733, 0.0), (735, 0.0), (736, 0.0), (737, 0.0), (739, 0.0), (748, 0.0), (759, 0.0), (760, 0.0), (762, 0.0), (767, 0.0), (768, 0.0), (769, 0.0), (770, 0.0), (773, 0.0), (774, 0.0), (776, 0.0), (780, 0.0), (783, 0.0), (786, 0.0), (790, 0.0), (791, 0.0), (800, 0.0), (807, 0.0), (809, 0.0), (812, 0.0), (813, 0.0), (821, 0.0), (822, 0.0), (829, 0.0), (831, 0.0), (836, 0.0), (837, 0.0), (840, 0.0), (843, 0.0), (846, 0.0), (850, 0.0), (853, 0.0), (856, 0.0), (857, 0.0), (858, 0.0), (860, 0.0), (864, 0.0), (866, 0.0), (868, 0.0), (874, 0.0), (878, 0.0), (883, 0.0), (887, 0.0), (888, 0.0), (889, 0.0), (890, 0.0), (892, 0.0), (894, 0.0), (895, 0.0), (900, 0.0), (901, 0.0), (903, 0.0), (906, 0.0), (907, 0.0), (908, 0.0), (914, 0.0), (917, 0.0), (919, 0.0), (920, 0.0), (926, 0.0), (927, 0.0), (932, 0.0), (933, 0.0), (935, 0.0), (937, 0.0), (938, 0.0), (939, 0.0), (947, 0.0), (949, 0.0), (951, 0.0), (954, 0.0), (957, 0.0), (959, 0.0), (960, 0.0), (964, 0.0), (965, 0.0), (976, 0.0), (977, 0.0), (978, 0.0), (979, 0.0), (981, 0.0), (991, 0.0), (994, 0.0), (998, 0.0), (999, 0.0)]\n"
          ],
          "name": "stdout"
        }
      ]
    },
    {
      "cell_type": "code",
      "metadata": {
        "colab": {
          "base_uri": "https://localhost:8080/"
        },
        "id": "9C0aBAh0171I",
        "outputId": "1f1b43a0-95fc-41f8-adba-0baa74760d85"
      },
      "source": [
        "j=0\n",
        "\n",
        "for item in sorted_scores:\n",
        "  movie_title = df[df.id == item[0]]['movie_title'].values[0]\n",
        "  print(j+1, movie_title)\n",
        "  j=j+1\n",
        "  if j>6:\n",
        "    break"
      ],
      "execution_count": 78,
      "outputs": [
        {
          "output_type": "stream",
          "text": [
            "1 Iron Man 3Â \n",
            "2 How to Train Your Dragon 2Â \n",
            "3 Tangled\n",
            "4 The Last CastleÂ \n",
            "5 The Amazing Spider-Man 2Â \n",
            "6 Robin Hood\n",
            "7 Dawn of the Planet of the ApesÂ \n"
          ],
          "name": "stdout"
        }
      ]
    },
    {
      "cell_type": "code",
      "metadata": {
        "id": "OXjmKVDI2dsn"
      },
      "source": [
        ""
      ],
      "execution_count": 78,
      "outputs": []
    }
  ]
}